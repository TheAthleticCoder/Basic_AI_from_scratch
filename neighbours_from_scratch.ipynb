{
 "cells": [
  {
   "cell_type": "markdown",
   "metadata": {
    "id": "NSd3vc8oPt3b"
   },
   "source": [
    "# Assignment 1\n",
    "## Question `1` (K-Nearest Neighbour)\n",
    "\n",
    "| | |\n",
    "|-|-|\n",
    "| Course | Statistical Methods in AI |\n",
    "| Release Date | `19.01.2023` |\n",
    "| Due Date | `29.01.2023` |\n",
    "\n",
    "### Instructions:\n",
    "1.   Assignment must be implemented using python notebook only (Colab , VsCode , Jupyter etc.)\n",
    "2.   You are allowed to use libraries for data preprocessing (numpy, pandas, nltk etc) and for algorithms as well (sklearn etc). You are not however allowed to directly use classifier models.\n",
    "3.   The performance of the model will hold weightage but you will also be graded largely for data preprocessing steps , explanations , feature selection for vectors etc.\n",
    "4.   Strict plagiarism checking will be done. An F will be awarded for plagiarism.\n",
    "\n",
    "### The Dataset\n",
    "The dataset is to be downloaded from the following drive link ([Link](https://drive.google.com/file/d/1u55iIrTrn41n2lv8HBjtdKLhDcy_6s7O/view?usp=sharing)).\n",
    "The dataset is a collection of *11099 tweets and has 31 columns*. The data will be in the form of a csv file which you can load in any format. The ground truth is available in the following drive link ([Link](https://drive.google.com/file/d/1--cozM5hXDwdbbDaWlB-8NqwSj0nh1Kg/view?usp=sharing)) which corresponds to whether a tweet was popular or not. Since the task involves selecting features yourself to vectorize a tweet , we suggest some data analysis of the columns you consider important.\n",
    "<br><br>\n",
    "\n",
    "### The Task\n",
    "You have to build a classifier which can predict the popularity of the tweet, i.e , if the tweet was popular or not. You are required to use **KNN** algorithm to build the classifier and cannot use any inbuilt classifier. All columns are supposed to be analyzed , filtered and preprocessed to determine its importance as a feature in the vector for every tweet (Not every column will be useful).<br>\n",
    "The Data contains the **raw text of the tweet**(in the text column) as well as other **meta data** like likes count , user followers count. Note that it might be useful to **create new columns** with useful information. For example, *number of hashtags* might be useful but is not directly present as a column.<br>\n",
    "There are 3 main sub parts:\n",
    "1. *Vectorize tweets using only meta data* - likes , user followers count , and other created data\n",
    "2. *Vectorize tweets using only it's text*. This segment will require NLP techniques to clean the text and extract a vector using a BoW model. Here is a useful link for the same - [Tf-Idf](https://towardsdatascience.com/text-vectorization-term-frequency-inverse-document-frequency-tfidf-5a3f9604da6d). Since these vectors will be very large , we recommend reducing their dimensinality (~10 - 25). Hint: [Dimentionality Reduction](https://jonathan-hui.medium.com/machine-learning-singular-value-decomposition-svd-principal-component-analysis-pca-1d45e885e491). Please note that for this also you are allowed to use libraries.\n",
    "\n",
    "3. *Combining the vectors from above two techinques to create one bigger vector*\n",
    "<br>\n",
    "\n",
    "\n",
    "Using KNN on these vectors build a classifier to predict the popularity of the tweet and report accuracies on each of the three methods as well as analysis. You can use sklearn's Nearest Neighbors and need not write KNN from scratch. (However you cannot use the classifier directly). You are expected to try the classifier for different number of neighbors and identify the optimal K value."
   ]
  },
  {
   "cell_type": "markdown",
   "metadata": {
    "id": "0LJvylX8680U"
   },
   "source": [
    "## Import necessary libraries"
   ]
  },
  {
   "cell_type": "code",
   "execution_count": 1,
   "metadata": {
    "id": "UrD1GJ6-YA5M"
   },
   "outputs": [],
   "source": [
    "import pandas as pd\n",
    "import numpy as np\n",
    "import json\n",
    "import math\n",
    "import matplotlib.pyplot as plt"
   ]
  },
  {
   "cell_type": "markdown",
   "metadata": {
    "id": "eoakVIVW7EOT"
   },
   "source": [
    "## Load and display the data"
   ]
  },
  {
   "cell_type": "code",
   "execution_count": 2,
   "metadata": {
    "id": "YRwXxW4WwEL8"
   },
   "outputs": [
    {
     "name": "stdout",
     "output_type": "stream",
     "text": [
      "11099\n",
      "Column names are:  Index(['created_at', 'id', 'id_str', 'text', 'truncated', 'entities',\n",
      "       'metadata', 'source', 'in_reply_to_status_id',\n",
      "       'in_reply_to_status_id_str', 'in_reply_to_user_id',\n",
      "       'in_reply_to_user_id_str', 'in_reply_to_screen_name', 'user', 'geo',\n",
      "       'coordinates', 'place', 'contributors', 'retweeted_status',\n",
      "       'is_quote_status', 'retweet_count', 'favorite_count', 'favorited',\n",
      "       'retweeted', 'lang', 'possibly_sensitive', 'quoted_status_id',\n",
      "       'quoted_status_id_str', 'extended_entities', 'quoted_status',\n",
      "       'withheld_in_countries'],\n",
      "      dtype='object')\n",
      "<class 'pandas.core.frame.DataFrame'>\n",
      "RangeIndex: 11099 entries, 0 to 11098\n",
      "Data columns (total 31 columns):\n",
      " #   Column                     Non-Null Count  Dtype              \n",
      "---  ------                     --------------  -----              \n",
      " 0   created_at                 11099 non-null  datetime64[ns, UTC]\n",
      " 1   id                         11099 non-null  int64              \n",
      " 2   id_str                     11099 non-null  int64              \n",
      " 3   text                       11099 non-null  object             \n",
      " 4   truncated                  11099 non-null  bool               \n",
      " 5   entities                   11099 non-null  object             \n",
      " 6   metadata                   11099 non-null  object             \n",
      " 7   source                     11099 non-null  object             \n",
      " 8   in_reply_to_status_id      1402 non-null   float64            \n",
      " 9   in_reply_to_status_id_str  1402 non-null   float64            \n",
      " 10  in_reply_to_user_id        1503 non-null   float64            \n",
      " 11  in_reply_to_user_id_str    1503 non-null   float64            \n",
      " 12  in_reply_to_screen_name    1503 non-null   object             \n",
      " 13  user                       11099 non-null  object             \n",
      " 14  geo                        17 non-null     object             \n",
      " 15  coordinates                17 non-null     object             \n",
      " 16  place                      156 non-null    object             \n",
      " 17  contributors               0 non-null      float64            \n",
      " 18  retweeted_status           7372 non-null   object             \n",
      " 19  is_quote_status            11099 non-null  bool               \n",
      " 20  retweet_count              11099 non-null  int64              \n",
      " 21  favorite_count             11099 non-null  int64              \n",
      " 22  favorited                  11099 non-null  bool               \n",
      " 23  retweeted                  11099 non-null  bool               \n",
      " 24  lang                       11099 non-null  object             \n",
      " 25  possibly_sensitive         3192 non-null   float64            \n",
      " 26  quoted_status_id           1154 non-null   float64            \n",
      " 27  quoted_status_id_str       1154 non-null   float64            \n",
      " 28  extended_entities          1199 non-null   object             \n",
      " 29  quoted_status              327 non-null    object             \n",
      " 30  withheld_in_countries      2 non-null      object             \n",
      "dtypes: bool(4), datetime64[ns, UTC](1), float64(8), int64(4), object(14)\n",
      "memory usage: 2.3+ MB\n",
      "Displaying Information:  None\n"
     ]
    }
   ],
   "source": [
    "tweets = pd.read_json('tweets.json',lines=True)\n",
    "#displaying necessary analysis\n",
    "print(len(tweets))\n",
    "print(\"Column names are: \", tweets.columns)\n",
    "print(\"Displaying Information: \", tweets.info())"
   ]
  },
  {
   "cell_type": "code",
   "execution_count": 3,
   "metadata": {},
   "outputs": [
    {
     "data": {
      "text/html": [
       "<div>\n",
       "<style scoped>\n",
       "    .dataframe tbody tr th:only-of-type {\n",
       "        vertical-align: middle;\n",
       "    }\n",
       "\n",
       "    .dataframe tbody tr th {\n",
       "        vertical-align: top;\n",
       "    }\n",
       "\n",
       "    .dataframe thead th {\n",
       "        text-align: right;\n",
       "    }\n",
       "</style>\n",
       "<table border=\"1\" class=\"dataframe\">\n",
       "  <thead>\n",
       "    <tr style=\"text-align: right;\">\n",
       "      <th></th>\n",
       "      <th>created_at</th>\n",
       "      <th>id</th>\n",
       "      <th>id_str</th>\n",
       "      <th>text</th>\n",
       "      <th>truncated</th>\n",
       "      <th>metadata</th>\n",
       "      <th>source</th>\n",
       "      <th>in_reply_to_status_id</th>\n",
       "      <th>in_reply_to_status_id_str</th>\n",
       "      <th>in_reply_to_user_id</th>\n",
       "      <th>...</th>\n",
       "      <th>quoted_status_id</th>\n",
       "      <th>quoted_status_id_str</th>\n",
       "      <th>extended_entities</th>\n",
       "      <th>quoted_status</th>\n",
       "      <th>withheld_in_countries</th>\n",
       "      <th>hashtags</th>\n",
       "      <th>symbols</th>\n",
       "      <th>user_mentions</th>\n",
       "      <th>urls</th>\n",
       "      <th>media</th>\n",
       "    </tr>\n",
       "  </thead>\n",
       "  <tbody>\n",
       "    <tr>\n",
       "      <th>0</th>\n",
       "      <td>2018-07-31 13:34:40+00:00</td>\n",
       "      <td>1024287229525598210</td>\n",
       "      <td>1024287229525598208</td>\n",
       "      <td>RT @KWWLStormTrack7: We are more than a month ...</td>\n",
       "      <td>False</td>\n",
       "      <td>{'iso_language_code': 'en', 'result_type': 're...</td>\n",
       "      <td>&lt;a href=\"http://twitter.com/download/android\" ...</td>\n",
       "      <td>NaN</td>\n",
       "      <td>NaN</td>\n",
       "      <td>NaN</td>\n",
       "      <td>...</td>\n",
       "      <td>NaN</td>\n",
       "      <td>NaN</td>\n",
       "      <td>NaN</td>\n",
       "      <td>NaN</td>\n",
       "      <td>NaN</td>\n",
       "      <td>[]</td>\n",
       "      <td>[]</td>\n",
       "      <td>[{'screen_name': 'KWWLStormTrack7', 'name': 'K...</td>\n",
       "      <td>[]</td>\n",
       "      <td>NaN</td>\n",
       "    </tr>\n",
       "    <tr>\n",
       "      <th>1</th>\n",
       "      <td>2018-07-31 13:34:40+00:00</td>\n",
       "      <td>1024287229512953856</td>\n",
       "      <td>1024287229512953856</td>\n",
       "      <td>@hail_ee23 Thanks love its just the feeling of...</td>\n",
       "      <td>False</td>\n",
       "      <td>{'iso_language_code': 'en', 'result_type': 're...</td>\n",
       "      <td>&lt;a href=\"http://twitter.com/download/iphone\" r...</td>\n",
       "      <td>1.024128e+18</td>\n",
       "      <td>1.024128e+18</td>\n",
       "      <td>9.271857e+17</td>\n",
       "      <td>...</td>\n",
       "      <td>NaN</td>\n",
       "      <td>NaN</td>\n",
       "      <td>NaN</td>\n",
       "      <td>NaN</td>\n",
       "      <td>NaN</td>\n",
       "      <td>[]</td>\n",
       "      <td>[]</td>\n",
       "      <td>[{'screen_name': 'hail_ee23', 'name': 'Jordan ...</td>\n",
       "      <td>[]</td>\n",
       "      <td>NaN</td>\n",
       "    </tr>\n",
       "    <tr>\n",
       "      <th>2</th>\n",
       "      <td>2018-07-31 13:34:40+00:00</td>\n",
       "      <td>1024287229504569344</td>\n",
       "      <td>1024287229504569344</td>\n",
       "      <td>RT @TransMediaWatch: Pink News has more on the...</td>\n",
       "      <td>False</td>\n",
       "      <td>{'iso_language_code': 'en', 'result_type': 're...</td>\n",
       "      <td>&lt;a href=\"http://twitter.com/download/iphone\" r...</td>\n",
       "      <td>NaN</td>\n",
       "      <td>NaN</td>\n",
       "      <td>NaN</td>\n",
       "      <td>...</td>\n",
       "      <td>NaN</td>\n",
       "      <td>NaN</td>\n",
       "      <td>NaN</td>\n",
       "      <td>NaN</td>\n",
       "      <td>NaN</td>\n",
       "      <td>[]</td>\n",
       "      <td>[]</td>\n",
       "      <td>[{'screen_name': 'TransMediaWatch', 'name': 'T...</td>\n",
       "      <td>[]</td>\n",
       "      <td>NaN</td>\n",
       "    </tr>\n",
       "    <tr>\n",
       "      <th>3</th>\n",
       "      <td>2018-07-31 13:34:40+00:00</td>\n",
       "      <td>1024287229496029190</td>\n",
       "      <td>1024287229496029184</td>\n",
       "      <td>RT @realDonaldTrump: One of the reasons we nee...</td>\n",
       "      <td>False</td>\n",
       "      <td>{'iso_language_code': 'en', 'result_type': 're...</td>\n",
       "      <td>&lt;a href=\"http://twitter.com/download/android\" ...</td>\n",
       "      <td>NaN</td>\n",
       "      <td>NaN</td>\n",
       "      <td>NaN</td>\n",
       "      <td>...</td>\n",
       "      <td>NaN</td>\n",
       "      <td>NaN</td>\n",
       "      <td>NaN</td>\n",
       "      <td>NaN</td>\n",
       "      <td>NaN</td>\n",
       "      <td>[]</td>\n",
       "      <td>[]</td>\n",
       "      <td>[{'screen_name': 'realDonaldTrump', 'name': 'D...</td>\n",
       "      <td>[]</td>\n",
       "      <td>NaN</td>\n",
       "    </tr>\n",
       "    <tr>\n",
       "      <th>4</th>\n",
       "      <td>2018-07-31 13:34:40+00:00</td>\n",
       "      <td>1024287229492031490</td>\n",
       "      <td>1024287229492031488</td>\n",
       "      <td>RT @First5App: This hearing of His Word doesn’...</td>\n",
       "      <td>False</td>\n",
       "      <td>{'iso_language_code': 'en', 'result_type': 're...</td>\n",
       "      <td>&lt;a href=\"http://twitter.com/download/iphone\" r...</td>\n",
       "      <td>NaN</td>\n",
       "      <td>NaN</td>\n",
       "      <td>NaN</td>\n",
       "      <td>...</td>\n",
       "      <td>NaN</td>\n",
       "      <td>NaN</td>\n",
       "      <td>NaN</td>\n",
       "      <td>NaN</td>\n",
       "      <td>NaN</td>\n",
       "      <td>[]</td>\n",
       "      <td>[]</td>\n",
       "      <td>[{'screen_name': 'First5App', 'name': 'First 5...</td>\n",
       "      <td>[]</td>\n",
       "      <td>NaN</td>\n",
       "    </tr>\n",
       "  </tbody>\n",
       "</table>\n",
       "<p>5 rows × 35 columns</p>\n",
       "</div>"
      ],
      "text/plain": [
       "                 created_at                   id               id_str  \\\n",
       "0 2018-07-31 13:34:40+00:00  1024287229525598210  1024287229525598208   \n",
       "1 2018-07-31 13:34:40+00:00  1024287229512953856  1024287229512953856   \n",
       "2 2018-07-31 13:34:40+00:00  1024287229504569344  1024287229504569344   \n",
       "3 2018-07-31 13:34:40+00:00  1024287229496029190  1024287229496029184   \n",
       "4 2018-07-31 13:34:40+00:00  1024287229492031490  1024287229492031488   \n",
       "\n",
       "                                                text  truncated  \\\n",
       "0  RT @KWWLStormTrack7: We are more than a month ...      False   \n",
       "1  @hail_ee23 Thanks love its just the feeling of...      False   \n",
       "2  RT @TransMediaWatch: Pink News has more on the...      False   \n",
       "3  RT @realDonaldTrump: One of the reasons we nee...      False   \n",
       "4  RT @First5App: This hearing of His Word doesn’...      False   \n",
       "\n",
       "                                            metadata  \\\n",
       "0  {'iso_language_code': 'en', 'result_type': 're...   \n",
       "1  {'iso_language_code': 'en', 'result_type': 're...   \n",
       "2  {'iso_language_code': 'en', 'result_type': 're...   \n",
       "3  {'iso_language_code': 'en', 'result_type': 're...   \n",
       "4  {'iso_language_code': 'en', 'result_type': 're...   \n",
       "\n",
       "                                              source  in_reply_to_status_id  \\\n",
       "0  <a href=\"http://twitter.com/download/android\" ...                    NaN   \n",
       "1  <a href=\"http://twitter.com/download/iphone\" r...           1.024128e+18   \n",
       "2  <a href=\"http://twitter.com/download/iphone\" r...                    NaN   \n",
       "3  <a href=\"http://twitter.com/download/android\" ...                    NaN   \n",
       "4  <a href=\"http://twitter.com/download/iphone\" r...                    NaN   \n",
       "\n",
       "   in_reply_to_status_id_str  in_reply_to_user_id  ...  quoted_status_id  \\\n",
       "0                        NaN                  NaN  ...               NaN   \n",
       "1               1.024128e+18         9.271857e+17  ...               NaN   \n",
       "2                        NaN                  NaN  ...               NaN   \n",
       "3                        NaN                  NaN  ...               NaN   \n",
       "4                        NaN                  NaN  ...               NaN   \n",
       "\n",
       "  quoted_status_id_str extended_entities quoted_status withheld_in_countries  \\\n",
       "0                  NaN               NaN           NaN                   NaN   \n",
       "1                  NaN               NaN           NaN                   NaN   \n",
       "2                  NaN               NaN           NaN                   NaN   \n",
       "3                  NaN               NaN           NaN                   NaN   \n",
       "4                  NaN               NaN           NaN                   NaN   \n",
       "\n",
       "  hashtags  symbols                                      user_mentions  urls  \\\n",
       "0       []       []  [{'screen_name': 'KWWLStormTrack7', 'name': 'K...    []   \n",
       "1       []       []  [{'screen_name': 'hail_ee23', 'name': 'Jordan ...    []   \n",
       "2       []       []  [{'screen_name': 'TransMediaWatch', 'name': 'T...    []   \n",
       "3       []       []  [{'screen_name': 'realDonaldTrump', 'name': 'D...    []   \n",
       "4       []       []  [{'screen_name': 'First5App', 'name': 'First 5...    []   \n",
       "\n",
       "   media  \n",
       "0    NaN  \n",
       "1    NaN  \n",
       "2    NaN  \n",
       "3    NaN  \n",
       "4    NaN  \n",
       "\n",
       "[5 rows x 35 columns]"
      ]
     },
     "execution_count": 3,
     "metadata": {},
     "output_type": "execute_result"
    }
   ],
   "source": [
    "\"\"\"Necessary Functions for Preprocessing\"\"\"\n",
    "def read_dictionary(df, column, keys):\n",
    "    df = pd.concat([df.drop([column], axis=1), df[column].apply(pd.Series)], axis=1)\n",
    "    return df\n",
    "def list_to_string(df, column):\n",
    "    df[column] = df[column].astype(str)\n",
    "    return df\n",
    "def drop_columns(df, columns):\n",
    "    df.drop(columns, axis=1, inplace=True)\n",
    "    return df\n",
    "def choose_columns(df, columns):\n",
    "    df = df[columns]\n",
    "    return df\n",
    "def display_unique_values(df, column):\n",
    "    print(\"Unique values in \", column, \" are: \", df[column].unique())\n",
    "\n",
    "#converting the entities column to hashtags, symbols and urls to get more data\n",
    "tweets = read_dictionary(tweets, 'entities', ['hashtags', 'symbols','urls'])\n",
    "tweets.head()"
   ]
  },
  {
   "cell_type": "code",
   "execution_count": 4,
   "metadata": {
    "id": "WAH13731wPS5"
   },
   "outputs": [],
   "source": [
    "#choosing all columns we are potentially interested in\n",
    "tweets = choose_columns(tweets,['text','truncated','lang','retweet_count','favorite_count','hashtags','symbols','urls'])"
   ]
  },
  {
   "cell_type": "code",
   "execution_count": 5,
   "metadata": {},
   "outputs": [
    {
     "data": {
      "text/html": [
       "<div>\n",
       "<style scoped>\n",
       "    .dataframe tbody tr th:only-of-type {\n",
       "        vertical-align: middle;\n",
       "    }\n",
       "\n",
       "    .dataframe tbody tr th {\n",
       "        vertical-align: top;\n",
       "    }\n",
       "\n",
       "    .dataframe thead th {\n",
       "        text-align: right;\n",
       "    }\n",
       "</style>\n",
       "<table border=\"1\" class=\"dataframe\">\n",
       "  <thead>\n",
       "    <tr style=\"text-align: right;\">\n",
       "      <th></th>\n",
       "      <th>text</th>\n",
       "      <th>truncated</th>\n",
       "      <th>lang</th>\n",
       "      <th>retweet_count</th>\n",
       "      <th>favorite_count</th>\n",
       "      <th>num_hashtags</th>\n",
       "      <th>num_urls</th>\n",
       "      <th>num_symbols</th>\n",
       "    </tr>\n",
       "  </thead>\n",
       "  <tbody>\n",
       "    <tr>\n",
       "      <th>0</th>\n",
       "      <td>RT @KWWLStormTrack7: We are more than a month ...</td>\n",
       "      <td>0</td>\n",
       "      <td>1</td>\n",
       "      <td>3</td>\n",
       "      <td>0</td>\n",
       "      <td>0</td>\n",
       "      <td>0</td>\n",
       "      <td>0</td>\n",
       "    </tr>\n",
       "    <tr>\n",
       "      <th>1</th>\n",
       "      <td>@hail_ee23 Thanks love its just the feeling of...</td>\n",
       "      <td>0</td>\n",
       "      <td>1</td>\n",
       "      <td>0</td>\n",
       "      <td>0</td>\n",
       "      <td>0</td>\n",
       "      <td>0</td>\n",
       "      <td>0</td>\n",
       "    </tr>\n",
       "    <tr>\n",
       "      <th>2</th>\n",
       "      <td>RT @TransMediaWatch: Pink News has more on the...</td>\n",
       "      <td>0</td>\n",
       "      <td>1</td>\n",
       "      <td>5</td>\n",
       "      <td>0</td>\n",
       "      <td>0</td>\n",
       "      <td>0</td>\n",
       "      <td>0</td>\n",
       "    </tr>\n",
       "    <tr>\n",
       "      <th>3</th>\n",
       "      <td>RT @realDonaldTrump: One of the reasons we nee...</td>\n",
       "      <td>0</td>\n",
       "      <td>1</td>\n",
       "      <td>11106</td>\n",
       "      <td>0</td>\n",
       "      <td>0</td>\n",
       "      <td>0</td>\n",
       "      <td>0</td>\n",
       "    </tr>\n",
       "    <tr>\n",
       "      <th>4</th>\n",
       "      <td>RT @First5App: This hearing of His Word doesn’...</td>\n",
       "      <td>0</td>\n",
       "      <td>1</td>\n",
       "      <td>6</td>\n",
       "      <td>0</td>\n",
       "      <td>0</td>\n",
       "      <td>0</td>\n",
       "      <td>0</td>\n",
       "    </tr>\n",
       "  </tbody>\n",
       "</table>\n",
       "</div>"
      ],
      "text/plain": [
       "                                                text  truncated lang  \\\n",
       "0  RT @KWWLStormTrack7: We are more than a month ...          0    1   \n",
       "1  @hail_ee23 Thanks love its just the feeling of...          0    1   \n",
       "2  RT @TransMediaWatch: Pink News has more on the...          0    1   \n",
       "3  RT @realDonaldTrump: One of the reasons we nee...          0    1   \n",
       "4  RT @First5App: This hearing of His Word doesn’...          0    1   \n",
       "\n",
       "   retweet_count  favorite_count  num_hashtags  num_urls  num_symbols  \n",
       "0              3               0             0         0            0  \n",
       "1              0               0             0         0            0  \n",
       "2              5               0             0         0            0  \n",
       "3          11106               0             0         0            0  \n",
       "4              6               0             0         0            0  "
      ]
     },
     "execution_count": 5,
     "metadata": {},
     "output_type": "execute_result"
    }
   ],
   "source": [
    "def count_hashtags(df, column):\n",
    "    df['num_hashtags'] = df[column].apply(len)\n",
    "    return df\n",
    "def count_urls(df, column):\n",
    "    df['num_urls'] = df[column].apply(len)\n",
    "    return df\n",
    "def count_symbols(df, column):\n",
    "    df['num_symbols'] = df[column].apply(len)\n",
    "    return df\n",
    "\n",
    "#count the number of hashtags in a tweet\n",
    "tweets = count_hashtags(tweets, 'hashtags')\n",
    "tweets = count_urls(tweets,'urls')\n",
    "tweets = count_symbols(tweets,'symbols')\n",
    "tweets = drop_columns(tweets, ['hashtags', 'urls', 'symbols'])\n",
    "tweets['truncated'].replace({False:0, True:1}, inplace=True)\n",
    "tweets['lang'].replace({'en':1}, inplace=True) \n",
    "tweets['lang'] = np.where(tweets['lang'] != 1, 0, tweets['lang'])\n",
    "tweets.head()"
   ]
  },
  {
   "cell_type": "code",
   "execution_count": 6,
   "metadata": {},
   "outputs": [
    {
     "data": {
      "text/html": [
       "<div>\n",
       "<style scoped>\n",
       "    .dataframe tbody tr th:only-of-type {\n",
       "        vertical-align: middle;\n",
       "    }\n",
       "\n",
       "    .dataframe tbody tr th {\n",
       "        vertical-align: top;\n",
       "    }\n",
       "\n",
       "    .dataframe thead th {\n",
       "        text-align: right;\n",
       "    }\n",
       "</style>\n",
       "<table border=\"1\" class=\"dataframe\">\n",
       "  <thead>\n",
       "    <tr style=\"text-align: right;\">\n",
       "      <th></th>\n",
       "      <th>class</th>\n",
       "    </tr>\n",
       "  </thead>\n",
       "  <tbody>\n",
       "    <tr>\n",
       "      <th>0</th>\n",
       "      <td>0.0</td>\n",
       "    </tr>\n",
       "    <tr>\n",
       "      <th>1</th>\n",
       "      <td>0.0</td>\n",
       "    </tr>\n",
       "    <tr>\n",
       "      <th>2</th>\n",
       "      <td>1.0</td>\n",
       "    </tr>\n",
       "    <tr>\n",
       "      <th>3</th>\n",
       "      <td>0.0</td>\n",
       "    </tr>\n",
       "    <tr>\n",
       "      <th>4</th>\n",
       "      <td>1.0</td>\n",
       "    </tr>\n",
       "  </tbody>\n",
       "</table>\n",
       "</div>"
      ],
      "text/plain": [
       "   class\n",
       "0    0.0\n",
       "1    0.0\n",
       "2    1.0\n",
       "3    0.0\n",
       "4    1.0"
      ]
     },
     "execution_count": 6,
     "metadata": {},
     "output_type": "execute_result"
    }
   ],
   "source": [
    "ground_truth = pd.read_csv('ground_truth.csv', header=None, names=['class'])\n",
    "ground_truth.head()"
   ]
  },
  {
   "cell_type": "markdown",
   "metadata": {
    "id": "ywNXO3TpwQkV"
   },
   "source": [
    "## Exploratory Data Analysis\n",
    "*This is an ungraded section but is recommended to get a good grasp on the dataset*"
   ]
  },
  {
   "cell_type": "code",
   "execution_count": 7,
   "metadata": {
    "id": "Nl8EwC77wqX4"
   },
   "outputs": [
    {
     "data": {
      "image/png": "[encoded data removed]",
      "text/plain": [
       "<Figure size 640x480 with 9 Axes>"
      ]
     },
     "metadata": {},
     "output_type": "display_data"
    }
   ],
   "source": [
    "tweets.iloc[:,1:].plot(kind='box', subplots=True, layout=(3,3), sharex=False, sharey=False)\n",
    "plt.show()  "
   ]
  },
  {
   "cell_type": "markdown",
   "metadata": {
    "id": "Mztyk9Kew7q1"
   },
   "source": [
    "## Part-1\n",
    "*Vectorize tweets using only meta data*"
   ]
  },
  {
   "cell_type": "code",
   "execution_count": 8,
   "metadata": {
    "id": "y-rDkUtVxQph"
   },
   "outputs": [],
   "source": [
    "def get_features(matrix):\n",
    "    \n",
    "    \"\"\"\n",
    "    Funtion to return a matrix of dimensions (number of tweets, number of chosen features)\n",
    "    Input parameters to this funcion are to be chosen as per requirement (Example: Loaded dataframe of the dataset) \n",
    "    \"\"\"\n",
    "    matrix = matrix[['retweet_count','truncated','lang','favorite_count','num_hashtags','num_urls','num_symbols']]\n",
    "    return matrix.to_numpy()\n",
    "\n",
    "featured_tweets = get_features(tweets)"
   ]
  },
  {
   "cell_type": "markdown",
   "metadata": {
    "id": "4K7Fzh5Q4wrV"
   },
   "source": [
    "Perform KNN using the vector obtained from get_features() function. Following are the steps to be followed:\n",
    "1. Normalise the vectors\n",
    "2. Split the data into training and test to estimate the performance.\n",
    "3. Fit the Nearest Neughbiurs module to the training data and obtain the predicted class by getting the nearest neighbours on the test data.\n",
    "4. Report the accuracy, chosen k-value and method used to obtain the predicted class. Hint: Plot accuracies for a range of k-values. "
   ]
  },
  {
   "cell_type": "code",
   "execution_count": 9,
   "metadata": {
    "id": "EBHGbdsi4fe-"
   },
   "outputs": [],
   "source": [
    "#Function to normalize the vectors\n",
    "def normalize(matrix):\n",
    "    matrix_norm = (matrix - matrix.min(axis=0)) / (matrix.max(axis=0) - matrix.min(axis=0))\n",
    "    return matrix_norm\n",
    "\n",
    "md_tweets_norm = normalize(featured_tweets)"
   ]
  },
  {
   "cell_type": "code",
   "execution_count": 10,
   "metadata": {},
   "outputs": [
    {
     "name": "stdout",
     "output_type": "stream",
     "text": [
      "Shape of X_train:  (7769, 7)\n",
      "Shape of X_test:  (3330, 7)\n",
      "Shape of y_train:  (7769, 1)\n",
      "Shape of y_test:  (3330,)\n"
     ]
    }
   ],
   "source": [
    "#splitting the dataset into training and testing\n",
    "from sklearn.model_selection import train_test_split\n",
    "md_X_train, md_X_test, md_y_train, md_y_test = train_test_split(md_tweets_norm, ground_truth['class'], test_size=0.3, random_state=13)\n",
    "md_y_train = md_y_train.values.reshape(-1,1)\n",
    "#y_test = y_test.values.reshape(-1,1)\n",
    "print(\"Shape of X_train: \", md_X_train.shape)\n",
    "print(\"Shape of X_test: \", md_X_test.shape)\n",
    "print(\"Shape of y_train: \", md_y_train.shape)\n",
    "print(\"Shape of y_test: \", md_y_test.shape)"
   ]
  },
  {
   "cell_type": "code",
   "execution_count": 11,
   "metadata": {},
   "outputs": [],
   "source": [
    "from sklearn.neighbors import NearestNeighbors\n",
    "from collections import Counter\n",
    "#Function to fit the model and use the maximum label of neighbouring points to classify\n",
    "def md_fit_predict(X_train, X_test, y_train, y_test, neighbours):\n",
    "    k_nearest = NearestNeighbors(n_neighbors=neighbours)\n",
    "    k_nearest.fit(X_train)\n",
    "    distances, indices = k_nearest.kneighbors(X_test) #indices of the nearest neighbours\n",
    "    labels = y_train[indices]\n",
    "    labels = labels.reshape(-1, neighbours).astype(int)\n",
    "    y_pred = np.array([np.bincount(labels[i]).argmax() for i in range(len(labels))]) #most common label\n",
    "    \n",
    "    return y_pred"
   ]
  },
  {
   "cell_type": "code",
   "execution_count": 12,
   "metadata": {},
   "outputs": [
    {
     "name": "stdout",
     "output_type": "stream",
     "text": [
      "Accuracy for k =  1  is:  0.881981981981982\n",
      "Accuracy for k =  2  is:  0.9162162162162162\n",
      "Accuracy for k =  3  is:  0.9126126126126126\n",
      "Accuracy for k =  4  is:  0.9165165165165166\n",
      "Accuracy for k =  5  is:  0.9147147147147147\n",
      "Accuracy for k =  6  is:  0.9174174174174174\n",
      "Accuracy for k =  7  is:  0.9174174174174174\n",
      "Accuracy for k =  8  is:  0.9174174174174174\n",
      "Accuracy for k =  9  is:  0.9174174174174174\n",
      "Accuracy for k =  10  is:  0.9174174174174174\n"
     ]
    }
   ],
   "source": [
    "from sklearn.metrics import accuracy_score\n",
    "ks=[]\n",
    "accuracies=[]\n",
    "#generating accuracy scores for different values of k\n",
    "for i in range(1, 11):\n",
    "    md_y_pred = md_fit_predict(md_X_train, md_X_test, md_y_train, md_y_test, i)\n",
    "    accuracy = accuracy_score(md_y_test, md_y_pred)\n",
    "    ks.append(i)\n",
    "    accuracies.append(accuracy)\n",
    "    print(\"Accuracy for k = \", i, \" is: \", accuracy)"
   ]
  },
  {
   "cell_type": "code",
   "execution_count": 13,
   "metadata": {},
   "outputs": [
    {
     "data": {
      "image/png": "[encoded data removed]",
      "text/plain": [
       "<Figure size 640x480 with 1 Axes>"
      ]
     },
     "metadata": {},
     "output_type": "display_data"
    }
   ],
   "source": [
    "plt.plot(ks, accuracies)\n",
    "plt.xlabel('No of neighbours')\n",
    "plt.ylabel('Accuracy')\n",
    "plt.show()\n"
   ]
  },
  {
   "cell_type": "markdown",
   "metadata": {
    "id": "vSufXze8zmV3"
   },
   "source": [
    "## Part-2\n",
    "Vectorize tweets based on the text. More details and reference links can be checked on the Tasks list in the start of the notebook"
   ]
  },
  {
   "cell_type": "code",
   "execution_count": 14,
   "metadata": {},
   "outputs": [],
   "source": [
    "import re\n",
    "from nltk.corpus import stopwords\n",
    "stop_words = set(stopwords.words('english'))\n",
    "from sklearn.feature_extraction.text import TfidfVectorizer\n",
    "tfidf = TfidfVectorizer()\n",
    "from sklearn.decomposition import PCA\n",
    "pca = PCA(n_components=18)"
   ]
  },
  {
   "cell_type": "code",
   "execution_count": 15,
   "metadata": {
    "id": "GBizLGhg0kQT"
   },
   "outputs": [
    {
     "name": "stdout",
     "output_type": "stream",
     "text": [
      "(11099, 18)\n"
     ]
    }
   ],
   "source": [
    "def tweet_vectoriser(matrix):\n",
    "    \"\"\"\n",
    "    Funtion to return a matrix of dimensions (number of tweets, number of features extracted per tweet)\n",
    "    Following are the steps for be followed:\n",
    "    1. Remove links, tags and hashtags from each tweet.\n",
    "    2. Apply TF-IDF on the tweets to extract a vector. \n",
    "    3. Perform dimensionality reduction on the obtained vector. \n",
    "    Input parameters to this funcion are to be chosen as per requirement (Example: Array of tweets) \n",
    "    \"\"\"\n",
    "    # your code here\n",
    "    matrix = matrix['text']\n",
    "    matrix = matrix.str.lower()\n",
    "    matrix = matrix.apply(lambda x: re.sub(r'https?:\\/\\/\\S+', '', x))\n",
    "    matrix = matrix.apply(lambda x: re.sub(r'@[^\\s]+', '', x))\n",
    "    matrix = matrix.apply(lambda x: re.sub(r'#[^\\s]+', '', x))\n",
    "    matrix = matrix.apply(lambda x: re.sub(r'<[^>]*>', '', x))\n",
    "    matrix = matrix.apply(lambda x: re.sub(r'^rt', '', x))\n",
    "    matrix = matrix.apply(lambda x: ' '.join([word for word in x.split() if word not in (stop_words)]))\n",
    "    tf_idf_arr = tfidf.fit_transform(matrix)\n",
    "    pca_arr = pca.fit_transform(tf_idf_arr.toarray())\n",
    "    return pca_arr\n",
    "\n",
    "tf_mat = tweet_vectoriser(tweets)\n",
    "print(tf_mat.shape)\n",
    "    "
   ]
  },
  {
   "cell_type": "markdown",
   "metadata": {
    "id": "3Q47SVkv9VzO"
   },
   "source": [
    "Perform KNN using the vector obtained from tweet_vectoriser() function. Following are the steps to be followed:\n",
    "\n",
    "1. Normalise the vectors\n",
    "2. Split the data into training and test to estimate the performance.\n",
    "3. Fit the Nearest Neughbiurs module to the training data and obtain the predicted class by getting the nearest neighbours on the test data.\n",
    "4. Report the accuracy, chosen k-value and method used to obtain the predicted class. Hint: Plot accuracies for a range of k-values."
   ]
  },
  {
   "cell_type": "code",
   "execution_count": 16,
   "metadata": {},
   "outputs": [
    {
     "name": "stdout",
     "output_type": "stream",
     "text": [
      "Shape of X_train:  (7769, 18)\n",
      "Shape of X_test:  (3330, 18)\n",
      "Shape of y_train:  (7769, 1)\n",
      "Shape of y_test:  (3330,)\n"
     ]
    }
   ],
   "source": [
    "from sklearn.model_selection import train_test_split\n",
    "ti_X_train, ti_X_test, ti_y_train, ti_y_test = train_test_split(tf_mat, ground_truth['class'], test_size=0.3, random_state=13)\n",
    "ti_y_train = ti_y_train.values.reshape(-1,1)\n",
    "#y_test = y_test.values.reshape(-1,1)\n",
    "print(\"Shape of X_train: \", ti_X_train.shape)\n",
    "print(\"Shape of X_test: \", ti_X_test.shape)\n",
    "print(\"Shape of y_train: \", ti_y_train.shape)\n",
    "print(\"Shape of y_test: \", ti_y_test.shape)"
   ]
  },
  {
   "cell_type": "code",
   "execution_count": 17,
   "metadata": {
    "id": "7aDr7vAW-NX_"
   },
   "outputs": [],
   "source": [
    "from sklearn.neighbors import NearestNeighbors\n",
    "from collections import Counter\n",
    "#Function to fit and predict the class\n",
    "def ti_fit_predict(X_train, X_test, y_train, y_test,neighbours):\n",
    "    k_nearest = NearestNeighbors(n_neighbors=neighbours)\n",
    "    k_nearest.fit(X_train)\n",
    "    distances, indices = k_nearest.kneighbors(X_test)\n",
    "    labels = y_train[indices]\n",
    "    labels = labels.reshape(-1, neighbours).astype(int)\n",
    "    y_pred = np.array([np.bincount(labels[i]).argmax() for i in range(len(labels))])\n",
    "    return y_pred"
   ]
  },
  {
   "cell_type": "code",
   "execution_count": 18,
   "metadata": {},
   "outputs": [
    {
     "name": "stdout",
     "output_type": "stream",
     "text": [
      "Accuracy for k =  1  is:  0.8558558558558559\n",
      "Accuracy for k =  2  is:  0.912012012012012\n",
      "Accuracy for k =  3  is:  0.9063063063063063\n",
      "Accuracy for k =  4  is:  0.9177177177177177\n",
      "Accuracy for k =  5  is:  0.9168168168168168\n",
      "Accuracy for k =  6  is:  0.9177177177177177\n",
      "Accuracy for k =  7  is:  0.9177177177177177\n",
      "Accuracy for k =  8  is:  0.9174174174174174\n",
      "Accuracy for k =  9  is:  0.9174174174174174\n",
      "Accuracy for k =  10  is:  0.9174174174174174\n"
     ]
    }
   ],
   "source": [
    "from sklearn.metrics import accuracy_score\n",
    "ti_ks=[]\n",
    "ti_accuracies=[]\n",
    "for i in range(1, 11):\n",
    "    ti_y_pred = ti_fit_predict(ti_X_train, ti_X_test, ti_y_train, ti_y_test, i)\n",
    "    accuracy = accuracy_score(ti_y_test, ti_y_pred)\n",
    "    ti_ks.append(i)\n",
    "    ti_accuracies.append(accuracy)\n",
    "    print(\"Accuracy for k = \", i, \" is: \", accuracy)"
   ]
  },
  {
   "cell_type": "code",
   "execution_count": 19,
   "metadata": {},
   "outputs": [
    {
     "data": {
      "image/png": "[encoded data removed]",
      "text/plain": [
       "<Figure size 640x480 with 1 Axes>"
      ]
     },
     "metadata": {},
     "output_type": "display_data"
    }
   ],
   "source": [
    "plt.plot(ti_ks, ti_accuracies)\n",
    "plt.xlabel('No of neighbours')\n",
    "plt.ylabel('Accuracy')\n",
    "plt.show()"
   ]
  },
  {
   "cell_type": "markdown",
   "metadata": {
    "id": "Rg7hD8-O3PbO"
   },
   "source": [
    "## Part-3\n",
    "### Subpart-1"
   ]
  },
  {
   "cell_type": "markdown",
   "metadata": {
    "id": "Bp9TVeVD9lKe"
   },
   "source": [
    "Combine both the vectors obtained from the tweet_vectoriser() and get_features()"
   ]
  },
  {
   "cell_type": "code",
   "execution_count": 20,
   "metadata": {
    "id": "r5ksyj7_3_xl"
   },
   "outputs": [
    {
     "name": "stdout",
     "output_type": "stream",
     "text": [
      "(11099, 25)\n"
     ]
    }
   ],
   "source": [
    "#combining vectors\n",
    "merged_vectors = np.concatenate((md_tweets_norm, tf_mat), axis=1)\n",
    "print(merged_vectors.shape)"
   ]
  },
  {
   "cell_type": "markdown",
   "metadata": {
    "id": "swCD5Jp69xo5"
   },
   "source": [
    "Perform KNN using the vector obtained in the previous step. Following are the steps to be followed:\n",
    "\n",
    "1. Normalise the vectors\n",
    "2. Split the data into training and test to estimate the performance.\n",
    "3. Fit the Nearest Neughbiurs module to the training data and obtain the predicted class by getting the nearest neighbours on the test data.\n",
    "4. Report the accuracy, chosen k-value and method used to obtain the predicted class. Hint: Plot accuracies for a range of k-values."
   ]
  },
  {
   "cell_type": "code",
   "execution_count": 21,
   "metadata": {},
   "outputs": [
    {
     "name": "stdout",
     "output_type": "stream",
     "text": [
      "Shape of X_train:  (7769, 25)\n",
      "Shape of X_test:  (3330, 25)\n",
      "Shape of y_train:  (7769, 1)\n",
      "Shape of y_test:  (3330,)\n"
     ]
    }
   ],
   "source": [
    "from sklearn.model_selection import train_test_split\n",
    "merge_X_train, merge_X_test, merge_y_train, merge_y_test = train_test_split(merged_vectors, ground_truth['class'], test_size=0.3, random_state=13)\n",
    "merge_y_train = merge_y_train.values.reshape(-1,1)\n",
    "#y_test = y_test.values.reshape(-1,1)\n",
    "print(\"Shape of X_train: \", merge_X_train.shape)\n",
    "print(\"Shape of X_test: \", merge_X_test.shape)\n",
    "print(\"Shape of y_train: \", merge_y_train.shape)\n",
    "print(\"Shape of y_test: \", merge_y_test.shape)"
   ]
  },
  {
   "cell_type": "code",
   "execution_count": 22,
   "metadata": {},
   "outputs": [],
   "source": [
    "from sklearn.neighbors import NearestNeighbors\n",
    "from collections import Counter\n",
    "#Function to fit and predict the class\n",
    "def merge_fit_predict(X_train, X_test, y_train, y_test,neighbours):\n",
    "    k_nearest = NearestNeighbors(n_neighbors=neighbours)\n",
    "    k_nearest.fit(X_train)\n",
    "    distances, indices = k_nearest.kneighbors(X_test)\n",
    "    labels = y_train[indices]\n",
    "    labels = labels.reshape(-1, neighbours).astype(int)\n",
    "    y_pred = np.array([np.bincount(labels[i]).argmax() for i in range(len(labels))])\n",
    "    return y_pred"
   ]
  },
  {
   "cell_type": "code",
   "execution_count": 23,
   "metadata": {},
   "outputs": [
    {
     "name": "stdout",
     "output_type": "stream",
     "text": [
      "Accuracy for k =  1  is:  0.8477477477477477\n",
      "Accuracy for k =  2  is:  0.9108108108108108\n",
      "Accuracy for k =  3  is:  0.9\n",
      "Accuracy for k =  4  is:  0.9171171171171171\n",
      "Accuracy for k =  5  is:  0.9144144144144144\n",
      "Accuracy for k =  6  is:  0.9168168168168168\n",
      "Accuracy for k =  7  is:  0.9165165165165166\n",
      "Accuracy for k =  8  is:  0.9174174174174174\n",
      "Accuracy for k =  9  is:  0.9174174174174174\n",
      "Accuracy for k =  10  is:  0.9174174174174174\n"
     ]
    }
   ],
   "source": [
    "from sklearn.metrics import accuracy_score\n",
    "merge_ks=[]\n",
    "merge_accuracies=[]\n",
    "for i in range(1, 11):\n",
    "    merge_y_pred = merge_fit_predict(merge_X_train, merge_X_test, merge_y_train, merge_y_test, i)\n",
    "    accuracy = accuracy_score(merge_y_test, merge_y_pred)\n",
    "    merge_ks.append(i)\n",
    "    merge_accuracies.append(accuracy)\n",
    "    print(\"Accuracy for k = \", i, \" is: \", accuracy)"
   ]
  },
  {
   "cell_type": "code",
   "execution_count": 24,
   "metadata": {},
   "outputs": [
    {
     "data": {
      "image/png": "[encoded data removed]",
      "text/plain": [
       "<Figure size 640x480 with 1 Axes>"
      ]
     },
     "metadata": {},
     "output_type": "display_data"
    }
   ],
   "source": [
    "plt.plot(merge_ks, merge_accuracies)\n",
    "plt.xlabel('No of neighbours')\n",
    "plt.ylabel('Accuracy')\n",
    "plt.show()"
   ]
  },
  {
   "cell_type": "markdown",
   "metadata": {
    "id": "1NVQLLhE3c79"
   },
   "source": [
    "### Subpart-2\n",
    "\n",
    "Explain the differences between the accuracies obtained in each part above based on the features used."
   ]
  },
  {
   "cell_type": "code",
   "execution_count": 25,
   "metadata": {},
   "outputs": [
    {
     "data": {
      "image/png": "[encoded data removed]",
      "text/plain": [
       "<Figure size 640x480 with 1 Axes>"
      ]
     },
     "metadata": {},
     "output_type": "display_data"
    }
   ],
   "source": [
    "plt.plot(ks, accuracies,color='red')\n",
    "plt.plot(ti_ks, ti_accuracies,color='blue')\n",
    "plt.plot(merge_ks, merge_accuracies,color='orange')\n",
    "plt.xlabel('No of neighbours')\n",
    "plt.ylabel('Accuracy')\n",
    "plt.show()"
   ]
  },
  {
   "cell_type": "markdown",
   "metadata": {},
   "source": [
    "We note that for $k=1$, $k=2$ and $k=3$, vectoizing and using the metadata provides greater accuracy than the other 2 approaches. The vectorization based on text (BOW:Tf-IDF) produces superior results, however, for $k=4$ and $k=5$. The accuracy differences between the three approaches are minimal above $k=6$.  \\\n",
    "For `Part 1`: Highest accuracy: 0.9174174174174174 achieved at $k=6$. After which it remains constant. \\\n",
    "For `Part 2`: Highest accuracy: 0.9174174174174174 achieved at $k=6$. After which the accuracy starts decreasing.\\\n",
    "For `Part 3`: Highest accuracy: 0.9174174174174174 achieved at $k=6$. After which it decreases for $k=7$ but then becomes constant again for other values of $k$."
   ]
  }
 ],
 "metadata": {
  "colab": {
   "provenance": []
  },
  "kernelspec": {
   "display_name": "Python 3 (ipykernel)",
   "language": "python",
   "name": "python3"
  },
  "language_info": {
   "codemirror_mode": {
    "name": "ipython",
    "version": 3
   },
   "file_extension": ".py",
   "mimetype": "text/x-python",
   "name": "python",
   "nbconvert_exporter": "python",
   "pygments_lexer": "ipython3",
   "version": "3.10.4"
  }
 },
 "nbformat": 4,
 "nbformat_minor": 4
}
